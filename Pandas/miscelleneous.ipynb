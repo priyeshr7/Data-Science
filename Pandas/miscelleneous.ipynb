{
 "cells": [
  {
   "cell_type": "markdown",
   "id": "960c8b06",
   "metadata": {},
   "source": [
    "# Forward Fill \n",
    "\n",
    "The ffill() method in Pandas, short for \"forward fill,\" is used to fill missing values (NaN or NA) in a Series or DataFrame by propagating the last valid observation forward. This means that if a missing value is encountered, it is replaced by the most recent non-missing value that appeared before it in the specified direction."
   ]
  },
  {
   "cell_type": "markdown",
   "id": "b271b9ee",
   "metadata": {},
   "source": [
    "numpy.random.normal(loc=0.0, scale=1.0, size=None)\n",
    "\n",
    "Parameters:\n",
    "\n",
    "loc: This parameter represents the mean (average) of the distribution, which determines the peak of the bell curve. The default value is 0.0.\n",
    "\n",
    "scale: This parameter represents the standard deviation, which measures the spread or \"width\" of the distribution. A larger scale value indicates a wider, flatter distribution. The default value is 1.0.\n",
    "\n",
    "size: This parameter determines the shape of the output array. If None (default), a single random number is returned. If an integer, a 1-D array of that size is returned. If a tuple, an array with the specified dimensions is returned."
   ]
  },
  {
   "cell_type": "code",
   "execution_count": null,
   "id": "17c8e687",
   "metadata": {},
   "outputs": [],
   "source": []
  }
 ],
 "metadata": {
  "language_info": {
   "name": "python"
  }
 },
 "nbformat": 4,
 "nbformat_minor": 5
}
